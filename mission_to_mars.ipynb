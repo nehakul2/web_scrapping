{
 "cells": [
  {
   "cell_type": "code",
   "execution_count": 25,
   "metadata": {},
   "outputs": [
    {
     "name": "stdout",
     "output_type": "stream",
     "text": [
      "Requirement already satisfied: splinter in /Users/nkulkar/anaconda3/lib/python3.6/site-packages\n",
      "Requirement already satisfied: selenium>=3.4.3 in /Users/nkulkar/anaconda3/lib/python3.6/site-packages (from splinter)\n"
     ]
    }
   ],
   "source": [
    "!pip install splinter"
   ]
  },
  {
   "cell_type": "code",
   "execution_count": 26,
   "metadata": {
    "collapsed": true
   },
   "outputs": [],
   "source": [
    "# Dependencies\n",
    "# https://splinter.readthedocs.io/en/latest/drivers/chrome.html\n",
    "from splinter import Browser\n",
    "from bs4 import BeautifulSoup as bs\n",
    "\n",
    "import requests\n",
    "import pymongo\n",
    "import re"
   ]
  },
  {
   "cell_type": "code",
   "execution_count": 27,
   "metadata": {
    "collapsed": true
   },
   "outputs": [],
   "source": [
    "from splinter import Browser\n",
    "executable_path = {'executable_path':'/usr/local/bin/chromedriver'}\n",
    "\n",
    "browser = Browser('chrome', **executable_path, headless=False )"
   ]
  },
  {
   "cell_type": "code",
   "execution_count": 28,
   "metadata": {
    "collapsed": true
   },
   "outputs": [],
   "source": [
    "def init_browser():\n",
    "   # @NOTE: Replace the path with your actual path to the chromedriver\n",
    "   executable_path = {\"executable_path\": \"/usr/local/bin/chromedriver/chromedriver.exe\"}\n",
    "   return Browser(\"chrome\", **executable_path, headless=False)"
   ]
  },
  {
   "cell_type": "code",
   "execution_count": 29,
   "metadata": {
    "collapsed": true
   },
   "outputs": [],
   "source": [
    "# Initialize PyMongo to work with MongoDBs\n",
    "conn = 'mongodb://localhost:27017'\n",
    "client = pymongo.MongoClient(conn)"
   ]
  },
  {
   "cell_type": "code",
   "execution_count": 30,
   "metadata": {
    "collapsed": true
   },
   "outputs": [],
   "source": [
    "# Define database and collection\n",
    "db = client.nasa_news\n",
    "collection = db.misson_to_mars"
   ]
  },
  {
   "cell_type": "markdown",
   "metadata": {},
   "source": [
    "# NASA Mars News"
   ]
  },
  {
   "cell_type": "code",
   "execution_count": 33,
   "metadata": {},
   "outputs": [
    {
     "name": "stdout",
     "output_type": "stream",
     "text": [
      "['Mars planet facts news & images | NASA Mars rover + mission info: News ']\n"
     ]
    }
   ],
   "source": [
    "def mars_news():\n",
    "    title_text = []\n",
    "    url = 'https://mars.nasa.gov/news/'\n",
    "    browser.visit(url)\n",
    "    # Retrieve page with the requests module\n",
    "    response = requests.get(url)\n",
    "    # Create a Beautiful Soup object\n",
    "    soup = bs(response.text, 'html.parser')\n",
    "    news_title = soup.title.text\n",
    "    title_text.append(news_title)\n",
    "    #print(title_text)\n",
    "    return (title_text)\n",
    "news_title = mars_news()\n",
    "print(news_title)"
   ]
  },
  {
   "cell_type": "code",
   "execution_count": 35,
   "metadata": {},
   "outputs": [
    {
     "name": "stdout",
     "output_type": "stream",
     "text": [
      "['NASA InSight Mission to Mars Arrives at Launch Site']\n",
      "['NASA InSight Mission to Mars Arrives at Launch Site', 'Nearly a Decade After Mars Phoenix Landed, Another Look']\n",
      "['NASA InSight Mission to Mars Arrives at Launch Site', 'Nearly a Decade After Mars Phoenix Landed, Another Look', 'Spacecraft Exits Safe Mode']\n",
      "['NASA InSight Mission to Mars Arrives at Launch Site', 'Nearly a Decade After Mars Phoenix Landed, Another Look', 'Spacecraft Exits Safe Mode', '5,000 Days on Mars; Solar-Powered Rover Approaching 5,000th Martian Dawn']\n",
      "['NASA InSight Mission to Mars Arrives at Launch Site', 'Nearly a Decade After Mars Phoenix Landed, Another Look', 'Spacecraft Exits Safe Mode', '5,000 Days on Mars; Solar-Powered Rover Approaching 5,000th Martian Dawn', 'Long-Lived Mars Rover Opportunity Keeps Finding Surprises']\n",
      "['NASA InSight Mission to Mars Arrives at Launch Site', 'Nearly a Decade After Mars Phoenix Landed, Another Look', 'Spacecraft Exits Safe Mode', '5,000 Days on Mars; Solar-Powered Rover Approaching 5,000th Martian Dawn', 'Long-Lived Mars Rover Opportunity Keeps Finding Surprises', 'A Piece of Mars is Going Home']\n",
      "['NASA InSight Mission to Mars Arrives at Launch Site', 'Nearly a Decade After Mars Phoenix Landed, Another Look', 'Spacecraft Exits Safe Mode', '5,000 Days on Mars; Solar-Powered Rover Approaching 5,000th Martian Dawn', 'Long-Lived Mars Rover Opportunity Keeps Finding Surprises', 'A Piece of Mars is Going Home']\n"
     ]
    }
   ],
   "source": [
    "def mars_para_text():\n",
    "    para_text = []\n",
    "    url = 'https://mars.nasa.gov/news/'\n",
    "    browser.visit(url)\n",
    "    # Retrieve page with the requests module\n",
    "    response = requests.get(url)\n",
    "    # Create a Beautiful Soup object\n",
    "    soup = bs(response.text, 'html.parser')\n",
    "    # Print all paragraph texts\n",
    "    paras = soup.find_all(class_=\"content_title\")\n",
    "    for para in paras:\n",
    "        ptext = para.find('_self')\n",
    "        ptext = para.text.strip()\n",
    "        para_text.append(ptext)\n",
    "        print(para_text)\n",
    "    return (para_text)\n",
    "news_text = mars_para_text()\n",
    "print(news_text)"
   ]
  },
  {
   "cell_type": "markdown",
   "metadata": {},
   "source": [
    "# JPL Mars Space Images - Featured Image"
   ]
  },
  {
   "cell_type": "code",
   "execution_count": 36,
   "metadata": {},
   "outputs": [
    {
     "name": "stdout",
     "output_type": "stream",
     "text": [
      "https://www.jpl.nasa.gov//spaceimages/images/mediumsize/PIA18297_ip.jpg\n"
     ]
    }
   ],
   "source": [
    "from splinter import Browser\n",
    "from bs4 import BeautifulSoup\n",
    "import time\n",
    "def Mars_Featured_image():\n",
    "    browser = Browser('chrome', headless=False)\n",
    "    url = 'https://www.jpl.nasa.gov/spaceimages/?search=&category=Mars'\n",
    "    browser.visit(url)\n",
    "    html = browser.html\n",
    "    # create a soup object from the html\n",
    "    img_soup = BeautifulSoup(html, \"html.parser\")\n",
    "    featured_image_url= 'https://www.jpl.nasa.gov/' + img_soup.find(class_=\"button fancybox\")['data-fancybox-href']\n",
    "\n",
    "    return (featured_image_url)\n",
    "featured_image_url = Mars_Featured_image()\n",
    "print(featured_image_url)"
   ]
  },
  {
   "cell_type": "markdown",
   "metadata": {},
   "source": [
    "# Mars Weather - get latest Mars weather tweet"
   ]
  },
  {
   "cell_type": "code",
   "execution_count": 39,
   "metadata": {},
   "outputs": [
    {
     "name": "stdout",
     "output_type": "stream",
     "text": [
      "<p class=\"TweetTextSize TweetTextSize--normal js-tweet-text tweet-text\" data-aria-label-part=\"0\" lang=\"en\">Sol 1978 (Feb 28, 2018), Sunny, high -14C/6F, low -78C/-108F, pressure at 7.27 hPa, daylight 05:37-17:25</p>\n"
     ]
    }
   ],
   "source": [
    "def Mars_latest_tweet():\n",
    "    url = \"https://twitter.com/MarsWxReport?lang=en\"\n",
    "    response = requests.get(url)\n",
    "    soup = bs(response.text, 'lxml') \n",
    "    latest_tweet = soup.title.text\n",
    "    mars_weather = soup.find(class_=\"TweetTextSize TweetTextSize--normal js-tweet-text tweet-text\")\n",
    "    #print(mars_weather)\n",
    "    return (mars_weather)\n",
    "mars_weather=Mars_latest_tweet()\n",
    "print(mars_weather)"
   ]
  },
  {
   "cell_type": "markdown",
   "metadata": {},
   "source": [
    "# Mars Facts\n",
    "Visit the Mars Facts webpage here and use Pandas to scrape the table containing facts about the planet including Diameter, Mass, etc.\n",
    "Use Pandas to convert the data to a HTML table string."
   ]
  },
  {
   "cell_type": "code",
   "execution_count": 47,
   "metadata": {},
   "outputs": [
    {
     "name": "stdout",
     "output_type": "stream",
     "text": [
      "<table border=\"1\" class=\"dataframe\">  <thead>    <tr style=\"text-align: right;\">      <th></th>      <th>Description</th>      <th>Value</th>    </tr>  </thead>  <tbody>    <tr>      <th>0</th>      <td>Equatorial Diameter:</td>      <td>6,792 km</td>    </tr>    <tr>      <th>1</th>      <td>Polar Diameter:</td>      <td>6,752 km</td>    </tr>    <tr>      <th>2</th>      <td>Mass:</td>      <td>6.42 x 10^23 kg (10.7% Earth)</td>    </tr>    <tr>      <th>3</th>      <td>Moons:</td>      <td>2 (Phobos &amp; Deimos)</td>    </tr>    <tr>      <th>4</th>      <td>Orbit Distance:</td>      <td>227,943,824 km (1.52 AU)</td>    </tr>    <tr>      <th>5</th>      <td>Orbit Period:</td>      <td>687 days (1.9 years)</td>    </tr>    <tr>      <th>6</th>      <td>Surface Temperature:</td>      <td>-153 to 20 °C</td>    </tr>    <tr>      <th>7</th>      <td>First Record:</td>      <td>2nd millennium BC</td>    </tr>    <tr>      <th>8</th>      <td>Recorded By:</td>      <td>Egyptian astronomers</td>    </tr>  </tbody></table>\n"
     ]
    }
   ],
   "source": [
    "def mars_Facts():\n",
    "    import pandas as pd\n",
    "    url = \"http://space-facts.com/mars/\"\n",
    "    response = requests.get(url)\n",
    "    soup = bs(response.text, 'html.parser')\n",
    "    type(soup)\n",
    "    tables = pd.read_html(url)\n",
    "    tables\n",
    "    df = tables[0]\n",
    "    df.columns = ['Description' ,'Value']\n",
    "    df.head()\n",
    "    #Use Pandas to convert the data to a HTML table string.\n",
    "    html_table = df.to_html()\n",
    "    html_table\n",
    "    facts_table = html_table.replace('\\n', '')\n",
    "    facts_table\n",
    "    type(facts_table)\n",
    "    #lets save this table to a file\n",
    "    df.to_html('table.html')\n",
    "    !open table.html\n",
    "    return(facts_table)\n",
    "mars_facts = mars_Facts()\n",
    "print(mars_facts)"
   ]
  },
  {
   "cell_type": "markdown",
   "metadata": {},
   "source": [
    "# Mars Hemisperes"
   ]
  },
  {
   "cell_type": "markdown",
   "metadata": {},
   "source": [
    "Visit the USGS Astrogeology site here to obtain high resolution images for each of Mar's hemispheres.\n",
    "You will need to click each of the links to the hemispheres in order to find the image url to the full resolution image.\n",
    "Save both the image url string for the full resolution hemipshere image, and the Hemisphere title containing the hemisphere name. Use a Python dictionary to store the data using the keys img_url and title.\n",
    "Append the dictionary with the image url string and the hemisphere title to a list. This list will contain one dictionary for each hemisphere."
   ]
  },
  {
   "cell_type": "code",
   "execution_count": 41,
   "metadata": {},
   "outputs": [
    {
     "name": "stdout",
     "output_type": "stream",
     "text": [
      "=================\n",
      "Cerberus Hemisphere Enhanced\n",
      "https://astrogeology.usgs.gov/search/map/Mars/Viking/cerberus_enhanced\n",
      "http://astropedia.astrogeology.usgs.gov/download/Mars/Viking/cerberus_enhanced.tif/full.jpg\n",
      "=================\n",
      "Schiaparelli Hemisphere Enhanced\n",
      "https://astrogeology.usgs.gov/search/map/Mars/Viking/schiaparelli_enhanced\n",
      "http://astropedia.astrogeology.usgs.gov/download/Mars/Viking/schiaparelli_enhanced.tif/full.jpg\n",
      "=================\n",
      "Syrtis Major Hemisphere Enhanced\n",
      "https://astrogeology.usgs.gov/search/map/Mars/Viking/syrtis_major_enhanced\n",
      "http://astropedia.astrogeology.usgs.gov/download/Mars/Viking/syrtis_major_enhanced.tif/full.jpg\n",
      "=================\n",
      "Valles Marineris Hemisphere Enhanced\n",
      "https://astrogeology.usgs.gov/search/map/Mars/Viking/valles_marineris_enhanced\n",
      "http://astropedia.astrogeology.usgs.gov/download/Mars/Viking/valles_marineris_enhanced.tif/full.jpg\n",
      "=====================================================\n",
      "[{'title': 'Cerberus Hemisphere Enhanced', 'img_url': 'http://astropedia.astrogeology.usgs.gov/download/Mars/Viking/cerberus_enhanced.tif/full.jpg'}, {'title': 'Schiaparelli Hemisphere Enhanced', 'img_url': 'http://astropedia.astrogeology.usgs.gov/download/Mars/Viking/schiaparelli_enhanced.tif/full.jpg'}, {'title': 'Syrtis Major Hemisphere Enhanced', 'img_url': 'http://astropedia.astrogeology.usgs.gov/download/Mars/Viking/syrtis_major_enhanced.tif/full.jpg'}, {'title': 'Valles Marineris Hemisphere Enhanced', 'img_url': 'http://astropedia.astrogeology.usgs.gov/download/Mars/Viking/valles_marineris_enhanced.tif/full.jpg'}]\n",
      "=====================================================\n"
     ]
    }
   ],
   "source": [
    "\n",
    "# URL of page to be scraped\n",
    "url = 'https://astrogeology.usgs.gov/search/results?q=hemisphere+enhanced&k1=target&v1=Mars'\n",
    " \n",
    "browser.visit(url)\n",
    "\n",
    "# Retrieve page with the requests module\n",
    "response = requests.get(url)\n",
    "# Create BeautifulSoup object; parse with 'lxml'\n",
    "soup = BeautifulSoup(response.text, 'lxml')\n",
    "\n",
    "hemisphere_image_urls = []\n",
    "results = soup.find_all('a', class_='itemLink product-item')\n",
    "for result in results:\n",
    "    print(\"=================\")\n",
    "    \n",
    "    hemisphere_title = result.find('h3').get_text()\n",
    "    print(hemisphere_title)\n",
    "    \n",
    "    new_url = \"https://astrogeology.usgs.gov\" + result['href']\n",
    "    browser.visit(new_url)\n",
    "    print(new_url)\n",
    "    \n",
    "    # Retrieve page with the requests module\n",
    "    response2 = requests.get(new_url)\n",
    " \n",
    "    browser2 = Browser('chrome', headless=False)\n",
    "    soup2 = BeautifulSoup(response2.text, 'lxml')\n",
    "    \n",
    "    next_page = soup2.find('div', class_='downloads')\n",
    "    #print(next_page)\n",
    "    \n",
    "    \n",
    "    link = next_page.find('a')['href']\n",
    "    #print(link)\n",
    "    hemisphere_url = link\n",
    "    #print(\"This is \")\n",
    "    print(hemisphere_url)\n",
    "    \n",
    "    hemisphere_image_urls.append({'title': hemisphere_title, 'img_url': hemisphere_url})\n",
    "\n",
    "print(\"=====================================================\")\n",
    "print(hemisphere_image_urls)\n",
    "print(\"=====================================================\")\n",
    "\n"
   ]
  },
  {
   "cell_type": "code",
   "execution_count": 42,
   "metadata": {},
   "outputs": [
    {
     "data": {
      "text/plain": [
       "[{'img_url': 'http://astropedia.astrogeology.usgs.gov/download/Mars/Viking/cerberus_enhanced.tif/full.jpg',\n",
       "  'title': 'Cerberus Hemisphere Enhanced'},\n",
       " {'img_url': 'http://astropedia.astrogeology.usgs.gov/download/Mars/Viking/schiaparelli_enhanced.tif/full.jpg',\n",
       "  'title': 'Schiaparelli Hemisphere Enhanced'},\n",
       " {'img_url': 'http://astropedia.astrogeology.usgs.gov/download/Mars/Viking/syrtis_major_enhanced.tif/full.jpg',\n",
       "  'title': 'Syrtis Major Hemisphere Enhanced'},\n",
       " {'img_url': 'http://astropedia.astrogeology.usgs.gov/download/Mars/Viking/valles_marineris_enhanced.tif/full.jpg',\n",
       "  'title': 'Valles Marineris Hemisphere Enhanced'}]"
      ]
     },
     "execution_count": 42,
     "metadata": {},
     "output_type": "execute_result"
    }
   ],
   "source": [
    "hemisphere_image_urls"
   ]
  },
  {
   "cell_type": "markdown",
   "metadata": {},
   "source": [
    "# Step 2 - MongoDB and Flask Application"
   ]
  },
  {
   "cell_type": "code",
   "execution_count": 50,
   "metadata": {},
   "outputs": [
    {
     "data": {
      "text/plain": [
       "{'facts': (),\n",
       " 'featured_image_url': 'https://www.jpl.nasa.gov//spaceimages/images/mediumsize/PIA18297_ip.jpg',\n",
       " 'hemispheres': [{'img_url': 'http://astropedia.astrogeology.usgs.gov/download/Mars/Viking/cerberus_enhanced.tif/full.jpg',\n",
       "   'title': 'Cerberus Hemisphere Enhanced'},\n",
       "  {'img_url': 'http://astropedia.astrogeology.usgs.gov/download/Mars/Viking/schiaparelli_enhanced.tif/full.jpg',\n",
       "   'title': 'Schiaparelli Hemisphere Enhanced'},\n",
       "  {'img_url': 'http://astropedia.astrogeology.usgs.gov/download/Mars/Viking/syrtis_major_enhanced.tif/full.jpg',\n",
       "   'title': 'Syrtis Major Hemisphere Enhanced'},\n",
       "  {'img_url': 'http://astropedia.astrogeology.usgs.gov/download/Mars/Viking/valles_marineris_enhanced.tif/full.jpg',\n",
       "   'title': 'Valles Marineris Hemisphere Enhanced'}],\n",
       " 'mars_weather': <p class=\"TweetTextSize TweetTextSize--normal js-tweet-text tweet-text\" data-aria-label-part=\"0\" lang=\"en\">Sol 1978 (Feb 28, 2018), Sunny, high -14C/6F, low -78C/-108F, pressure at 7.27 hPa, daylight 05:37-17:25</p>,\n",
       " 'news_text': ['NASA InSight Mission to Mars Arrives at Launch Site',\n",
       "  'Nearly a Decade After Mars Phoenix Landed, Another Look',\n",
       "  'Spacecraft Exits Safe Mode',\n",
       "  '5,000 Days on Mars; Solar-Powered Rover Approaching 5,000th Martian Dawn',\n",
       "  'Long-Lived Mars Rover Opportunity Keeps Finding Surprises',\n",
       "  'A Piece of Mars is Going Home'],\n",
       " 'news_title': ['Mars planet facts news & images | NASA Mars rover + mission info: News ']}"
      ]
     },
     "execution_count": 50,
     "metadata": {},
     "output_type": "execute_result"
    }
   ],
   "source": [
    "# Create a dictionary with all of the above scraped variables \n",
    "mars_scrape_data = {'hemispheres': hemisphere_image_urls,\n",
    "                    'facts': facts_table,\n",
    "                    'mars_weather': mars_weather,\n",
    "                    \"featured_image_url\": featured_image_url,\n",
    "                    'news_title': news_title,\n",
    "                    'news_text': news_text}\n",
    "\n",
    "mars_scrape_data\n",
    " "
   ]
  },
  {
   "cell_type": "code",
   "execution_count": null,
   "metadata": {
    "collapsed": true
   },
   "outputs": [],
   "source": []
  }
 ],
 "metadata": {
  "kernelspec": {
   "display_name": "Python 3",
   "language": "python",
   "name": "python3"
  },
  "language_info": {
   "codemirror_mode": {
    "name": "ipython",
    "version": 3
   },
   "file_extension": ".py",
   "mimetype": "text/x-python",
   "name": "python",
   "nbconvert_exporter": "python",
   "pygments_lexer": "ipython3",
   "version": "3.6.2"
  }
 },
 "nbformat": 4,
 "nbformat_minor": 2
}
